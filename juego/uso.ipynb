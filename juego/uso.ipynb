{
 "cells": [
  {
   "cell_type": "markdown",
   "metadata": {},
   "source": [
    "Estructura del juego."
   ]
  },
  {
   "cell_type": "markdown",
   "metadata": {},
   "source": [
    "En el modulo 'character.py' encontramos:\n",
    "    clase character(nombre(str),fuerza(int),inteligencia(int),defensa(int),vida(int)).\n",
    "        -nombre(str): debe contener un 'string' correspondiente al nombre del personaje.\n",
    "        -fuerza(int): contiene el valor inicial de la fuerza del personaje.\n",
    "        -inteligencia(int): contiene el valor inicial de la inteligencia del personaje.\n",
    "        -defensa(int): contiene el valor inicial de la defensa del personaje.\n",
    "        -vida(int): contiene el valor inicial de la vida del personaje.\n",
    "    \n",
    "        atributos(nombre): imprime los atributos actuales del personaje ingresado en los parametros.\n",
    "        (este debe existir).\n",
    "\n",
    "        subir_nivel(fuerza,inteligencia,defensa,vida):\n",
    "            incrementa los atributos en la cantidad ingresada en los parametros.\n",
    "            imprime los nuevos atributos del personaje.\n",
    "            (este debe existir).\n",
    "        \n",
    "        esta_vivo(nombre): comprueba con un 'bool' si la vida del personaje es superior a 0.\n",
    "            True = esta vivo!\n",
    "            False = esta muerto!\n",
    "        \n",
    "        morir(nombre): cambia el valor de vida por:0\n",
    "            imprime aviso de la muerte del personaje.\n",
    "\n",
    "        daño(enemigo): indica la cantidad de daño que realiza un personaje a otro.\n",
    "\n",
    "        atacar(enemigo): permite realizar un ataque de un personaje a otro.\n",
    "            imprime el resultado del combate.\n"
   ]
  },
  {
   "cell_type": "code",
   "execution_count": 1,
   "metadata": {},
   "outputs": [],
   "source": [
    "import character #importamos el modulo 'character'"
   ]
  },
  {
   "cell_type": "markdown",
   "metadata": {},
   "source": [
    "los personajes de la subclase 'mago' y 'war' poseen un parametro adicional que corresponde a el arma."
   ]
  },
  {
   "cell_type": "code",
   "execution_count": 2,
   "metadata": {},
   "outputs": [],
   "source": [
    "#crecion de personaje:\n",
    "chia = character.character('Chia',1,1,0,10) # Basico\n",
    "damian = character.mago('Damian',1,2,0,10,2) # Mago\n",
    "edna = character.war('Edna',2,1,0,10,3) #War\n"
   ]
  },
  {
   "cell_type": "markdown",
   "metadata": {},
   "source": [
    "atributos"
   ]
  },
  {
   "cell_type": "code",
   "execution_count": 3,
   "metadata": {},
   "outputs": [
    {
     "name": "stdout",
     "output_type": "stream",
     "text": [
      "Chia\n",
      "Fuerza : 1\n",
      "Inteligencia : 1\n",
      "Defensa : 0\n",
      "Vida : 10\n"
     ]
    }
   ],
   "source": [
    "#damian.atributos()\n",
    "#edna.atributos()\n",
    "chia.atributos()"
   ]
  },
  {
   "cell_type": "markdown",
   "metadata": {},
   "source": [
    "subir_nivel"
   ]
  },
  {
   "cell_type": "code",
   "execution_count": 4,
   "metadata": {},
   "outputs": [
    {
     "name": "stdout",
     "output_type": "stream",
     "text": [
      "Chia\n",
      "HA AVANZADO DE NIVEL\n",
      "Nuevos atributos\n",
      "Chia\n",
      "Fuerza : 2\n",
      "Inteligencia : 2\n",
      "Defensa : 0\n",
      "Vida : 15\n"
     ]
    }
   ],
   "source": [
    "chia.subir_nivel(1,1,0,5)"
   ]
  },
  {
   "cell_type": "markdown",
   "metadata": {},
   "source": [
    "esta_vivo"
   ]
  },
  {
   "cell_type": "code",
   "execution_count": 5,
   "metadata": {},
   "outputs": [
    {
     "data": {
      "text/plain": [
       "True"
      ]
     },
     "execution_count": 5,
     "metadata": {},
     "output_type": "execute_result"
    }
   ],
   "source": [
    "damian.esta_vivo()"
   ]
  },
  {
   "cell_type": "code",
   "execution_count": 6,
   "metadata": {},
   "outputs": [
    {
     "name": "stdout",
     "output_type": "stream",
     "text": [
      "Damian\n",
      "Fuerza : 1\n",
      "Inteligencia : 2\n",
      "Defensa : 0\n",
      "Vida : 10\n",
      "arma 2\n"
     ]
    },
    {
     "data": {
      "text/plain": [
       "True"
      ]
     },
     "execution_count": 6,
     "metadata": {},
     "output_type": "execute_result"
    }
   ],
   "source": [
    "#damian.vida = damian.vida -10  #reducimos la vida en 10.\n",
    "damian.atributos()\n",
    "damian.esta_vivo()"
   ]
  },
  {
   "cell_type": "markdown",
   "metadata": {},
   "source": [
    "morir"
   ]
  },
  {
   "cell_type": "code",
   "execution_count": 7,
   "metadata": {},
   "outputs": [],
   "source": [
    "#damian.morir() #x.x"
   ]
  },
  {
   "cell_type": "markdown",
   "metadata": {},
   "source": [
    "daño"
   ]
  },
  {
   "cell_type": "code",
   "execution_count": 8,
   "metadata": {},
   "outputs": [
    {
     "data": {
      "text/plain": [
       "4"
      ]
     },
     "execution_count": 8,
     "metadata": {},
     "output_type": "execute_result"
    }
   ],
   "source": [
    "damian.daño(chia)\n"
   ]
  },
  {
   "cell_type": "markdown",
   "metadata": {},
   "source": [
    "atacar"
   ]
  },
  {
   "cell_type": "code",
   "execution_count": 9,
   "metadata": {},
   "outputs": [
    {
     "name": "stdout",
     "output_type": "stream",
     "text": [
      "el ataque de Chia ha sido de 2 sobre Edna\n",
      "la vida de Edna es de 8 tras el ataque.\n"
     ]
    }
   ],
   "source": [
    "chia.atacar(edna)"
   ]
  },
  {
   "cell_type": "markdown",
   "metadata": {},
   "source": [
    "Subclases: mediante la herencia permite usar la clase 'character'\n",
    "    estas subclase cuentan con arma.\n",
    "    war continua usando la fuerza como fuente de su ataque.\n",
    "    mago ahora usa inteligencia como fuente de su ataque.\n",
    "    el valor de arma se suma al valor de fuente del personaje en el momento del combate."
   ]
  },
  {
   "cell_type": "markdown",
   "metadata": {},
   "source": [
    "WAR:\n",
    "\n",
    "la subclase 'war':\n",
    "    permite agregar un parametro adicional en la creacion del personaje: 'arma'\n",
    "    incluye en valor de arma en el conteo de daño durante el combate.\n",
    "    incluye 'arma' dentro de los atributos.\n",
    "    utiliza 'fuerza' en su ataque\n",
    "\n",
    "    cambiar de arma: \n",
    "            permite al usuario elegir entre 'espada' y 'manodoble' y modificar el valor de 'arma'"
   ]
  },
  {
   "cell_type": "markdown",
   "metadata": {},
   "source": [
    "MAGO:\n",
    "\n",
    "la subclase 'mago':\n",
    "    permite agregar un parametro adicional en la creacion del personaje: 'arma'\n",
    "    incluye en valor de arma en el conteo de daño durante el combate.\n",
    "    incluye 'arma' dentro de los atributos.\n",
    "    utiliza  'inteligencia' en su ataque.\n",
    "\n",
    "    cambiar de arma: \n",
    "        permite al usuario elegir entre 'libro' y 'baston' y modificar el valor de 'arma'"
   ]
  },
  {
   "cell_type": "code",
   "execution_count": 10,
   "metadata": {},
   "outputs": [
    {
     "name": "stdout",
     "output_type": "stream",
     "text": [
      "Damian\n",
      "Fuerza : 1\n",
      "Inteligencia : 2\n",
      "Defensa : 0\n",
      "Vida : 10\n",
      "arma 2\n"
     ]
    }
   ],
   "source": [
    "damian.atributos()"
   ]
  },
  {
   "cell_type": "code",
   "execution_count": 11,
   "metadata": {},
   "outputs": [
    {
     "name": "stdout",
     "output_type": "stream",
     "text": [
      "Damian\n",
      "Fuerza : 1\n",
      "Inteligencia : 2\n",
      "Defensa : 0\n",
      "Vida : 10\n",
      "arma 3\n"
     ]
    }
   ],
   "source": [
    "damian.cambiar_arma()\n",
    "# la opcion 1 dejara el valor de arma en 2 , la opcion 2 aumentara a 3 el valor de arma.\n",
    "damian.atributos()"
   ]
  },
  {
   "cell_type": "markdown",
   "metadata": {},
   "source": [
    "COMBATE!!!"
   ]
  },
  {
   "cell_type": "markdown",
   "metadata": {},
   "source": [
    "combate(nombre1,nombre2): inicia un bucle que termina cuando uno de los 2 personajes muere.\n",
    "    imprime el informe de el combate turno por turno."
   ]
  },
  {
   "cell_type": "code",
   "execution_count": 12,
   "metadata": {},
   "outputs": [
    {
     "name": "stdout",
     "output_type": "stream",
     "text": [
      "\n",
      "Turno : 0\n",
      "\n",
      "Turno de Chia :\n",
      "el ataque de Chia ha sido de 2 sobre Edna\n",
      "la vida de Edna es de 6 tras el ataque.\n",
      "\n",
      "Turno de Edna :\n",
      "el ataque de Edna ha sido de 5 sobre Chia\n",
      "la vida de Chia es de 10 tras el ataque.\n",
      "\n",
      "Turno : 1\n",
      "\n",
      "Turno de Chia :\n",
      "el ataque de Chia ha sido de 2 sobre Edna\n",
      "la vida de Edna es de 4 tras el ataque.\n",
      "\n",
      "Turno de Edna :\n",
      "el ataque de Edna ha sido de 5 sobre Chia\n",
      "la vida de Chia es de 5 tras el ataque.\n",
      "\n",
      "Turno : 2\n",
      "\n",
      "Turno de Chia :\n",
      "el ataque de Chia ha sido de 2 sobre Edna\n",
      "la vida de Edna es de 2 tras el ataque.\n",
      "\n",
      "Turno de Edna :\n",
      "el ataque de Edna ha sido de 5 sobre Chia\n",
      "Chia ha muerto!\n",
      "\n",
      "Edna ha vencido\n"
     ]
    }
   ],
   "source": [
    "character.combate(chia,edna)"
   ]
  }
 ],
 "metadata": {
  "kernelspec": {
   "display_name": "Python 3",
   "language": "python",
   "name": "python3"
  },
  "language_info": {
   "codemirror_mode": {
    "name": "ipython",
    "version": 3
   },
   "file_extension": ".py",
   "mimetype": "text/x-python",
   "name": "python",
   "nbconvert_exporter": "python",
   "pygments_lexer": "ipython3",
   "version": "3.12.0"
  }
 },
 "nbformat": 4,
 "nbformat_minor": 2
}
